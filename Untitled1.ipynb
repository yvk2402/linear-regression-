{
 "cells": [
  {
   "cell_type": "code",
   "execution_count": 139,
   "id": "a7a06005",
   "metadata": {},
   "outputs": [],
   "source": [
    "# getting data \n",
    "import numpy as np\n",
    "import pandas as pd\n",
    "import matplotlib.pyplot as plt\n",
    "import seaborn as sns\n",
    "import os \n",
    "from matplotlib.patches import ConnectionPatch"
   ]
  },
  {
   "cell_type": "code",
   "execution_count": 23,
   "id": "903f1337",
   "metadata": {},
   "outputs": [],
   "source": [
    "from kaggle.api.kaggle_api_extended import KaggleApi\n",
    "api = KaggleApi()\n",
    "api.authenticate()"
   ]
  },
  {
   "cell_type": "code",
   "execution_count": 24,
   "id": "1a32e1a5",
   "metadata": {},
   "outputs": [],
   "source": [
    "data = api.dataset_list(search='Price Prediction -Multiple Linear Regression')"
   ]
  },
  {
   "cell_type": "code",
   "execution_count": 25,
   "id": "46c64941",
   "metadata": {},
   "outputs": [],
   "source": [
    "for i in data:\n",
    "    api.dataset_download_files(str(i),path=os.getcwd()+'/kaggle_datasets')"
   ]
  },
  {
   "cell_type": "code",
   "execution_count": 220,
   "id": "fd9a7e78",
   "metadata": {},
   "outputs": [],
   "source": [
    "df = pd.read_csv(r\"C:\\Users\\Madhuri\\Downloads\\car_price.csv\")"
   ]
  },
  {
   "cell_type": "code",
   "execution_count": 163,
   "id": "27cedd8e",
   "metadata": {},
   "outputs": [
    {
     "data": {
      "text/html": [
       "<div>\n",
       "<style scoped>\n",
       "    .dataframe tbody tr th:only-of-type {\n",
       "        vertical-align: middle;\n",
       "    }\n",
       "\n",
       "    .dataframe tbody tr th {\n",
       "        vertical-align: top;\n",
       "    }\n",
       "\n",
       "    .dataframe thead th {\n",
       "        text-align: right;\n",
       "    }\n",
       "</style>\n",
       "<table border=\"1\" class=\"dataframe\">\n",
       "  <thead>\n",
       "    <tr style=\"text-align: right;\">\n",
       "      <th></th>\n",
       "      <th>ID</th>\n",
       "      <th>symboling</th>\n",
       "      <th>name</th>\n",
       "      <th>fueltypes</th>\n",
       "      <th>aspiration</th>\n",
       "      <th>doornumbers</th>\n",
       "      <th>carbody</th>\n",
       "      <th>drivewheels</th>\n",
       "      <th>enginelocation</th>\n",
       "      <th>wheelbase</th>\n",
       "      <th>...</th>\n",
       "      <th>enginesize</th>\n",
       "      <th>fuelsystem</th>\n",
       "      <th>boreratio</th>\n",
       "      <th>stroke</th>\n",
       "      <th>compressionratio</th>\n",
       "      <th>horsepower</th>\n",
       "      <th>peakrpm</th>\n",
       "      <th>citympg</th>\n",
       "      <th>highwaympg</th>\n",
       "      <th>price</th>\n",
       "    </tr>\n",
       "  </thead>\n",
       "  <tbody>\n",
       "    <tr>\n",
       "      <th>0</th>\n",
       "      <td>1</td>\n",
       "      <td>3</td>\n",
       "      <td>alfa-romero giulia</td>\n",
       "      <td>gas</td>\n",
       "      <td>std</td>\n",
       "      <td>two</td>\n",
       "      <td>convertible</td>\n",
       "      <td>rwd</td>\n",
       "      <td>front</td>\n",
       "      <td>88.6</td>\n",
       "      <td>...</td>\n",
       "      <td>130</td>\n",
       "      <td>mpfi</td>\n",
       "      <td>3.47</td>\n",
       "      <td>2.68</td>\n",
       "      <td>9.0</td>\n",
       "      <td>111</td>\n",
       "      <td>5000</td>\n",
       "      <td>21</td>\n",
       "      <td>27</td>\n",
       "      <td>13495.0</td>\n",
       "    </tr>\n",
       "    <tr>\n",
       "      <th>1</th>\n",
       "      <td>2</td>\n",
       "      <td>3</td>\n",
       "      <td>alfa-romero stelvio</td>\n",
       "      <td>gas</td>\n",
       "      <td>std</td>\n",
       "      <td>two</td>\n",
       "      <td>convertible</td>\n",
       "      <td>rwd</td>\n",
       "      <td>front</td>\n",
       "      <td>88.6</td>\n",
       "      <td>...</td>\n",
       "      <td>130</td>\n",
       "      <td>mpfi</td>\n",
       "      <td>3.47</td>\n",
       "      <td>2.68</td>\n",
       "      <td>9.0</td>\n",
       "      <td>111</td>\n",
       "      <td>5000</td>\n",
       "      <td>21</td>\n",
       "      <td>27</td>\n",
       "      <td>16500.0</td>\n",
       "    </tr>\n",
       "    <tr>\n",
       "      <th>2</th>\n",
       "      <td>3</td>\n",
       "      <td>1</td>\n",
       "      <td>alfa-romero Quadrifoglio</td>\n",
       "      <td>gas</td>\n",
       "      <td>std</td>\n",
       "      <td>two</td>\n",
       "      <td>hatchback</td>\n",
       "      <td>rwd</td>\n",
       "      <td>front</td>\n",
       "      <td>94.5</td>\n",
       "      <td>...</td>\n",
       "      <td>152</td>\n",
       "      <td>mpfi</td>\n",
       "      <td>2.68</td>\n",
       "      <td>3.47</td>\n",
       "      <td>9.0</td>\n",
       "      <td>154</td>\n",
       "      <td>5000</td>\n",
       "      <td>19</td>\n",
       "      <td>26</td>\n",
       "      <td>16500.0</td>\n",
       "    </tr>\n",
       "    <tr>\n",
       "      <th>3</th>\n",
       "      <td>4</td>\n",
       "      <td>2</td>\n",
       "      <td>audi 100 ls</td>\n",
       "      <td>gas</td>\n",
       "      <td>std</td>\n",
       "      <td>four</td>\n",
       "      <td>sedan</td>\n",
       "      <td>fwd</td>\n",
       "      <td>front</td>\n",
       "      <td>99.8</td>\n",
       "      <td>...</td>\n",
       "      <td>109</td>\n",
       "      <td>mpfi</td>\n",
       "      <td>3.19</td>\n",
       "      <td>3.40</td>\n",
       "      <td>10.0</td>\n",
       "      <td>102</td>\n",
       "      <td>5500</td>\n",
       "      <td>24</td>\n",
       "      <td>30</td>\n",
       "      <td>13950.0</td>\n",
       "    </tr>\n",
       "    <tr>\n",
       "      <th>4</th>\n",
       "      <td>5</td>\n",
       "      <td>2</td>\n",
       "      <td>audi 100ls</td>\n",
       "      <td>gas</td>\n",
       "      <td>std</td>\n",
       "      <td>four</td>\n",
       "      <td>sedan</td>\n",
       "      <td>4wd</td>\n",
       "      <td>front</td>\n",
       "      <td>99.4</td>\n",
       "      <td>...</td>\n",
       "      <td>136</td>\n",
       "      <td>mpfi</td>\n",
       "      <td>3.19</td>\n",
       "      <td>3.40</td>\n",
       "      <td>8.0</td>\n",
       "      <td>115</td>\n",
       "      <td>5500</td>\n",
       "      <td>18</td>\n",
       "      <td>22</td>\n",
       "      <td>17450.0</td>\n",
       "    </tr>\n",
       "  </tbody>\n",
       "</table>\n",
       "<p>5 rows × 26 columns</p>\n",
       "</div>"
      ],
      "text/plain": [
       "   ID  symboling                      name fueltypes aspiration doornumbers  \\\n",
       "0   1          3        alfa-romero giulia       gas        std         two   \n",
       "1   2          3       alfa-romero stelvio       gas        std         two   \n",
       "2   3          1  alfa-romero Quadrifoglio       gas        std         two   \n",
       "3   4          2               audi 100 ls       gas        std        four   \n",
       "4   5          2                audi 100ls       gas        std        four   \n",
       "\n",
       "       carbody drivewheels enginelocation  wheelbase  ...  enginesize  \\\n",
       "0  convertible         rwd          front       88.6  ...         130   \n",
       "1  convertible         rwd          front       88.6  ...         130   \n",
       "2    hatchback         rwd          front       94.5  ...         152   \n",
       "3        sedan         fwd          front       99.8  ...         109   \n",
       "4        sedan         4wd          front       99.4  ...         136   \n",
       "\n",
       "   fuelsystem  boreratio  stroke compressionratio horsepower  peakrpm citympg  \\\n",
       "0        mpfi       3.47    2.68              9.0        111     5000      21   \n",
       "1        mpfi       3.47    2.68              9.0        111     5000      21   \n",
       "2        mpfi       2.68    3.47              9.0        154     5000      19   \n",
       "3        mpfi       3.19    3.40             10.0        102     5500      24   \n",
       "4        mpfi       3.19    3.40              8.0        115     5500      18   \n",
       "\n",
       "   highwaympg    price  \n",
       "0          27  13495.0  \n",
       "1          27  16500.0  \n",
       "2          26  16500.0  \n",
       "3          30  13950.0  \n",
       "4          22  17450.0  \n",
       "\n",
       "[5 rows x 26 columns]"
      ]
     },
     "execution_count": 163,
     "metadata": {},
     "output_type": "execute_result"
    }
   ],
   "source": [
    "df.head()"
   ]
  },
  {
   "cell_type": "code",
   "execution_count": 164,
   "id": "c2483b68",
   "metadata": {},
   "outputs": [
    {
     "data": {
      "text/plain": [
       "26"
      ]
     },
     "execution_count": 164,
     "metadata": {},
     "output_type": "execute_result"
    }
   ],
   "source": [
    "len(df.columns)"
   ]
  },
  {
   "cell_type": "code",
   "execution_count": 165,
   "id": "baa0a21c",
   "metadata": {},
   "outputs": [
    {
     "name": "stdout",
     "output_type": "stream",
     "text": [
      "<class 'pandas.core.frame.DataFrame'>\n",
      "RangeIndex: 203 entries, 0 to 202\n",
      "Data columns (total 26 columns):\n",
      " #   Column            Non-Null Count  Dtype  \n",
      "---  ------            --------------  -----  \n",
      " 0   ID                203 non-null    int64  \n",
      " 1   symboling         203 non-null    int64  \n",
      " 2   name              203 non-null    object \n",
      " 3   fueltypes         203 non-null    object \n",
      " 4   aspiration        203 non-null    object \n",
      " 5   doornumbers       203 non-null    object \n",
      " 6   carbody           203 non-null    object \n",
      " 7   drivewheels       203 non-null    object \n",
      " 8   enginelocation    203 non-null    object \n",
      " 9   wheelbase         203 non-null    float64\n",
      " 10  carlength         203 non-null    float64\n",
      " 11  carwidth          203 non-null    float64\n",
      " 12  carheight         203 non-null    float64\n",
      " 13  curbweight        203 non-null    int64  \n",
      " 14  enginetype        203 non-null    object \n",
      " 15  cylindernumber    203 non-null    object \n",
      " 16  enginesize        203 non-null    int64  \n",
      " 17  fuelsystem        203 non-null    object \n",
      " 18  boreratio         203 non-null    float64\n",
      " 19  stroke            203 non-null    float64\n",
      " 20  compressionratio  203 non-null    float64\n",
      " 21  horsepower        203 non-null    int64  \n",
      " 22  peakrpm           203 non-null    int64  \n",
      " 23  citympg           203 non-null    int64  \n",
      " 24  highwaympg        203 non-null    int64  \n",
      " 25  price             203 non-null    float64\n",
      "dtypes: float64(8), int64(8), object(10)\n",
      "memory usage: 41.4+ KB\n"
     ]
    }
   ],
   "source": [
    "df.info()"
   ]
  },
  {
   "cell_type": "code",
   "execution_count": 166,
   "id": "50eec374",
   "metadata": {},
   "outputs": [],
   "source": [
    "data=df.drop('ID',axis=1)"
   ]
  },
  {
   "cell_type": "code",
   "execution_count": 167,
   "id": "f457538b",
   "metadata": {},
   "outputs": [
    {
     "data": {
      "text/plain": [
       "25"
      ]
     },
     "execution_count": 167,
     "metadata": {},
     "output_type": "execute_result"
    }
   ],
   "source": [
    "len(data.columns)"
   ]
  },
  {
   "cell_type": "code",
   "execution_count": 168,
   "id": "81505ba9",
   "metadata": {},
   "outputs": [
    {
     "data": {
      "text/plain": [
       "symboling           0\n",
       "name                0\n",
       "fueltypes           0\n",
       "aspiration          0\n",
       "doornumbers         0\n",
       "carbody             0\n",
       "drivewheels         0\n",
       "enginelocation      0\n",
       "wheelbase           0\n",
       "carlength           0\n",
       "carwidth            0\n",
       "carheight           0\n",
       "curbweight          0\n",
       "enginetype          0\n",
       "cylindernumber      0\n",
       "enginesize          0\n",
       "fuelsystem          0\n",
       "boreratio           0\n",
       "stroke              0\n",
       "compressionratio    0\n",
       "horsepower          0\n",
       "peakrpm             0\n",
       "citympg             0\n",
       "highwaympg          0\n",
       "price               0\n",
       "dtype: int64"
      ]
     },
     "execution_count": 168,
     "metadata": {},
     "output_type": "execute_result"
    }
   ],
   "source": [
    "data.isnull().sum()"
   ]
  },
  {
   "cell_type": "code",
   "execution_count": 169,
   "id": "e49ac439",
   "metadata": {},
   "outputs": [
    {
     "data": {
      "text/plain": [
       "0      False\n",
       "1      False\n",
       "2      False\n",
       "3      False\n",
       "4      False\n",
       "       ...  \n",
       "198    False\n",
       "199    False\n",
       "200    False\n",
       "201    False\n",
       "202    False\n",
       "Length: 203, dtype: bool"
      ]
     },
     "execution_count": 169,
     "metadata": {},
     "output_type": "execute_result"
    }
   ],
   "source": [
    "data.duplicated()"
   ]
  },
  {
   "cell_type": "code",
   "execution_count": 170,
   "id": "baf5b774",
   "metadata": {},
   "outputs": [
    {
     "data": {
      "text/plain": [
       "array(['alfa-romero giulia', 'alfa-romero stelvio',\n",
       "       'alfa-romero Quadrifoglio', 'audi 100 ls', 'audi 100ls',\n",
       "       'audi fox', 'audi 5000', 'audi 4000', 'audi 5000s (diesel)',\n",
       "       'bmw 320i', 'bmw x1', 'bmw x3', 'bmw z4', 'bmw x4', 'bmw x5',\n",
       "       'chevrolet impala', 'chevrolet monte carlo', 'chevrolet vega 2300',\n",
       "       'dodge rampage', 'dodge challenger se', 'dodge d200',\n",
       "       'dodge monaco (sw)', 'dodge colt hardtop', 'dodge colt (sw)',\n",
       "       'dodge coronet custom', 'dodge dart custom',\n",
       "       'dodge coronet custom (sw)', 'honda civic', 'honda civic cvcc',\n",
       "       'honda accord cvcc', 'honda accord lx', 'honda civic 1500 gl',\n",
       "       'honda accord', 'honda civic 1300', 'honda prelude',\n",
       "       'honda civic (auto)', 'isuzu MU-X', 'isuzu D-Max ',\n",
       "       'isuzu D-Max V-Cross', 'jaguar xj', 'jaguar xf', 'jaguar xk',\n",
       "       'maxda rx3', 'maxda glc deluxe', 'mazda rx2 coupe', 'mazda rx-4',\n",
       "       'mazda glc deluxe', 'mazda 626', 'mazda glc', 'mazda rx-7 gs',\n",
       "       'mazda glc 4', 'mazda glc custom l', 'mazda glc custom',\n",
       "       'buick electra 225 custom', 'buick century luxus (sw)',\n",
       "       'buick century', 'buick skyhawk', 'buick opel isuzu deluxe',\n",
       "       'buick skylark', 'buick century special',\n",
       "       'buick regal sport coupe (turbo)', 'mercury cougar',\n",
       "       'mitsubishi mirage', 'mitsubishi lancer', 'mitsubishi outlander',\n",
       "       'mitsubishi g4', 'mitsubishi mirage g4', 'mitsubishi montero',\n",
       "       'mitsubishi pajero', 'Nissan versa', 'nissan gt-r', 'nissan rogue',\n",
       "       'nissan latio', 'nissan titan', 'nissan leaf', 'nissan juke',\n",
       "       'nissan note', 'nissan clipper', 'nissan nv200', 'nissan dayz',\n",
       "       'nissan fuga', 'nissan otti', 'nissan teana', 'nissan kicks',\n",
       "       'peugeot 504', 'peugeot 304', 'peugeot 504 (sw)', 'peugeot 604sl',\n",
       "       'peugeot 505s turbo diesel', 'plymouth fury iii',\n",
       "       'plymouth cricket', 'plymouth satellite custom (sw)',\n",
       "       'plymouth fury gran sedan', 'plymouth valiant', 'plymouth duster',\n",
       "       'porsche macan', 'porcshce panamera', 'porsche cayenne',\n",
       "       'porsche boxter', 'renault 12tl', 'renault 5 gtl', 'saab 99e',\n",
       "       'saab 99le', 'saab 99gle', 'subaru', 'subaru dl', 'subaru brz',\n",
       "       'subaru baja', 'subaru r1', 'subaru r2', 'subaru trezia',\n",
       "       'subaru tribeca', 'toyota corona mark ii', 'toyota corona',\n",
       "       'toyota corolla 1200', 'toyota corona hardtop',\n",
       "       'toyota corolla 1600 (sw)', 'toyota carina', 'toyota mark ii',\n",
       "       'toyota corolla', 'toyota corolla liftback',\n",
       "       'toyota celica gt liftback', 'toyota corolla tercel',\n",
       "       'toyota corona liftback', 'toyota starlet', 'toyota tercel',\n",
       "       'toyota cressida', 'toyota celica gt', 'toyouta tercel',\n",
       "       'vokswagen rabbit', 'volkswagen 1131 deluxe sedan',\n",
       "       'volkswagen model 111', 'volkswagen type 3', 'volkswagen 411 (sw)',\n",
       "       'volkswagen super beetle', 'volkswagen dasher', 'vw dasher',\n",
       "       'vw rabbit', 'volkswagen rabbit', 'volkswagen rabbit custom',\n",
       "       'volvo 145e (sw)', 'volvo 144ea', 'volvo 244dl', 'volvo 245',\n",
       "       'volvo 264gl', 'volvo diesel', 'volvo 246'], dtype=object)"
      ]
     },
     "execution_count": 170,
     "metadata": {},
     "output_type": "execute_result"
    }
   ],
   "source": [
    "data.name.unique()"
   ]
  },
  {
   "cell_type": "code",
   "execution_count": 171,
   "id": "cb5cc8be",
   "metadata": {},
   "outputs": [
    {
     "data": {
      "text/html": [
       "<div>\n",
       "<style scoped>\n",
       "    .dataframe tbody tr th:only-of-type {\n",
       "        vertical-align: middle;\n",
       "    }\n",
       "\n",
       "    .dataframe tbody tr th {\n",
       "        vertical-align: top;\n",
       "    }\n",
       "\n",
       "    .dataframe thead th {\n",
       "        text-align: right;\n",
       "    }\n",
       "</style>\n",
       "<table border=\"1\" class=\"dataframe\">\n",
       "  <thead>\n",
       "    <tr style=\"text-align: right;\">\n",
       "      <th></th>\n",
       "      <th>symboling</th>\n",
       "      <th>fueltypes</th>\n",
       "      <th>Car_name</th>\n",
       "      <th>aspiration</th>\n",
       "      <th>doornumbers</th>\n",
       "      <th>carbody</th>\n",
       "      <th>drivewheels</th>\n",
       "      <th>enginelocation</th>\n",
       "      <th>wheelbase</th>\n",
       "      <th>carlength</th>\n",
       "      <th>...</th>\n",
       "      <th>enginesize</th>\n",
       "      <th>fuelsystem</th>\n",
       "      <th>boreratio</th>\n",
       "      <th>stroke</th>\n",
       "      <th>compressionratio</th>\n",
       "      <th>horsepower</th>\n",
       "      <th>peakrpm</th>\n",
       "      <th>citympg</th>\n",
       "      <th>highwaympg</th>\n",
       "      <th>price</th>\n",
       "    </tr>\n",
       "  </thead>\n",
       "  <tbody>\n",
       "    <tr>\n",
       "      <th>0</th>\n",
       "      <td>3</td>\n",
       "      <td>gas</td>\n",
       "      <td>alfa-romero</td>\n",
       "      <td>std</td>\n",
       "      <td>two</td>\n",
       "      <td>convertible</td>\n",
       "      <td>rwd</td>\n",
       "      <td>front</td>\n",
       "      <td>88.6</td>\n",
       "      <td>168.8</td>\n",
       "      <td>...</td>\n",
       "      <td>130</td>\n",
       "      <td>mpfi</td>\n",
       "      <td>3.47</td>\n",
       "      <td>2.68</td>\n",
       "      <td>9.0</td>\n",
       "      <td>111</td>\n",
       "      <td>5000</td>\n",
       "      <td>21</td>\n",
       "      <td>27</td>\n",
       "      <td>13495.0</td>\n",
       "    </tr>\n",
       "    <tr>\n",
       "      <th>1</th>\n",
       "      <td>3</td>\n",
       "      <td>gas</td>\n",
       "      <td>alfa-romero</td>\n",
       "      <td>std</td>\n",
       "      <td>two</td>\n",
       "      <td>convertible</td>\n",
       "      <td>rwd</td>\n",
       "      <td>front</td>\n",
       "      <td>88.6</td>\n",
       "      <td>168.8</td>\n",
       "      <td>...</td>\n",
       "      <td>130</td>\n",
       "      <td>mpfi</td>\n",
       "      <td>3.47</td>\n",
       "      <td>2.68</td>\n",
       "      <td>9.0</td>\n",
       "      <td>111</td>\n",
       "      <td>5000</td>\n",
       "      <td>21</td>\n",
       "      <td>27</td>\n",
       "      <td>16500.0</td>\n",
       "    </tr>\n",
       "    <tr>\n",
       "      <th>2</th>\n",
       "      <td>1</td>\n",
       "      <td>gas</td>\n",
       "      <td>alfa-romero</td>\n",
       "      <td>std</td>\n",
       "      <td>two</td>\n",
       "      <td>hatchback</td>\n",
       "      <td>rwd</td>\n",
       "      <td>front</td>\n",
       "      <td>94.5</td>\n",
       "      <td>171.2</td>\n",
       "      <td>...</td>\n",
       "      <td>152</td>\n",
       "      <td>mpfi</td>\n",
       "      <td>2.68</td>\n",
       "      <td>3.47</td>\n",
       "      <td>9.0</td>\n",
       "      <td>154</td>\n",
       "      <td>5000</td>\n",
       "      <td>19</td>\n",
       "      <td>26</td>\n",
       "      <td>16500.0</td>\n",
       "    </tr>\n",
       "    <tr>\n",
       "      <th>3</th>\n",
       "      <td>2</td>\n",
       "      <td>gas</td>\n",
       "      <td>audi</td>\n",
       "      <td>std</td>\n",
       "      <td>four</td>\n",
       "      <td>sedan</td>\n",
       "      <td>fwd</td>\n",
       "      <td>front</td>\n",
       "      <td>99.8</td>\n",
       "      <td>176.6</td>\n",
       "      <td>...</td>\n",
       "      <td>109</td>\n",
       "      <td>mpfi</td>\n",
       "      <td>3.19</td>\n",
       "      <td>3.40</td>\n",
       "      <td>10.0</td>\n",
       "      <td>102</td>\n",
       "      <td>5500</td>\n",
       "      <td>24</td>\n",
       "      <td>30</td>\n",
       "      <td>13950.0</td>\n",
       "    </tr>\n",
       "    <tr>\n",
       "      <th>4</th>\n",
       "      <td>2</td>\n",
       "      <td>gas</td>\n",
       "      <td>audi</td>\n",
       "      <td>std</td>\n",
       "      <td>four</td>\n",
       "      <td>sedan</td>\n",
       "      <td>4wd</td>\n",
       "      <td>front</td>\n",
       "      <td>99.4</td>\n",
       "      <td>176.6</td>\n",
       "      <td>...</td>\n",
       "      <td>136</td>\n",
       "      <td>mpfi</td>\n",
       "      <td>3.19</td>\n",
       "      <td>3.40</td>\n",
       "      <td>8.0</td>\n",
       "      <td>115</td>\n",
       "      <td>5500</td>\n",
       "      <td>18</td>\n",
       "      <td>22</td>\n",
       "      <td>17450.0</td>\n",
       "    </tr>\n",
       "    <tr>\n",
       "      <th>...</th>\n",
       "      <td>...</td>\n",
       "      <td>...</td>\n",
       "      <td>...</td>\n",
       "      <td>...</td>\n",
       "      <td>...</td>\n",
       "      <td>...</td>\n",
       "      <td>...</td>\n",
       "      <td>...</td>\n",
       "      <td>...</td>\n",
       "      <td>...</td>\n",
       "      <td>...</td>\n",
       "      <td>...</td>\n",
       "      <td>...</td>\n",
       "      <td>...</td>\n",
       "      <td>...</td>\n",
       "      <td>...</td>\n",
       "      <td>...</td>\n",
       "      <td>...</td>\n",
       "      <td>...</td>\n",
       "      <td>...</td>\n",
       "      <td>...</td>\n",
       "    </tr>\n",
       "    <tr>\n",
       "      <th>198</th>\n",
       "      <td>-1</td>\n",
       "      <td>gas</td>\n",
       "      <td>volvo</td>\n",
       "      <td>std</td>\n",
       "      <td>four</td>\n",
       "      <td>sedan</td>\n",
       "      <td>rwd</td>\n",
       "      <td>front</td>\n",
       "      <td>109.1</td>\n",
       "      <td>188.8</td>\n",
       "      <td>...</td>\n",
       "      <td>141</td>\n",
       "      <td>mpfi</td>\n",
       "      <td>3.78</td>\n",
       "      <td>3.15</td>\n",
       "      <td>9.5</td>\n",
       "      <td>114</td>\n",
       "      <td>5400</td>\n",
       "      <td>23</td>\n",
       "      <td>28</td>\n",
       "      <td>16845.0</td>\n",
       "    </tr>\n",
       "    <tr>\n",
       "      <th>199</th>\n",
       "      <td>-1</td>\n",
       "      <td>gas</td>\n",
       "      <td>volvo</td>\n",
       "      <td>turbo</td>\n",
       "      <td>four</td>\n",
       "      <td>sedan</td>\n",
       "      <td>rwd</td>\n",
       "      <td>front</td>\n",
       "      <td>109.1</td>\n",
       "      <td>188.8</td>\n",
       "      <td>...</td>\n",
       "      <td>141</td>\n",
       "      <td>mpfi</td>\n",
       "      <td>3.78</td>\n",
       "      <td>3.15</td>\n",
       "      <td>8.7</td>\n",
       "      <td>160</td>\n",
       "      <td>5300</td>\n",
       "      <td>19</td>\n",
       "      <td>25</td>\n",
       "      <td>19045.0</td>\n",
       "    </tr>\n",
       "    <tr>\n",
       "      <th>200</th>\n",
       "      <td>-1</td>\n",
       "      <td>gas</td>\n",
       "      <td>volvo</td>\n",
       "      <td>std</td>\n",
       "      <td>four</td>\n",
       "      <td>sedan</td>\n",
       "      <td>rwd</td>\n",
       "      <td>front</td>\n",
       "      <td>109.1</td>\n",
       "      <td>188.8</td>\n",
       "      <td>...</td>\n",
       "      <td>173</td>\n",
       "      <td>mpfi</td>\n",
       "      <td>3.58</td>\n",
       "      <td>2.87</td>\n",
       "      <td>8.8</td>\n",
       "      <td>134</td>\n",
       "      <td>5500</td>\n",
       "      <td>18</td>\n",
       "      <td>23</td>\n",
       "      <td>21485.0</td>\n",
       "    </tr>\n",
       "    <tr>\n",
       "      <th>201</th>\n",
       "      <td>-1</td>\n",
       "      <td>diesel</td>\n",
       "      <td>volvo</td>\n",
       "      <td>turbo</td>\n",
       "      <td>four</td>\n",
       "      <td>sedan</td>\n",
       "      <td>rwd</td>\n",
       "      <td>front</td>\n",
       "      <td>109.1</td>\n",
       "      <td>188.8</td>\n",
       "      <td>...</td>\n",
       "      <td>145</td>\n",
       "      <td>idi</td>\n",
       "      <td>3.01</td>\n",
       "      <td>3.40</td>\n",
       "      <td>23.0</td>\n",
       "      <td>106</td>\n",
       "      <td>4800</td>\n",
       "      <td>26</td>\n",
       "      <td>27</td>\n",
       "      <td>22470.0</td>\n",
       "    </tr>\n",
       "    <tr>\n",
       "      <th>202</th>\n",
       "      <td>-1</td>\n",
       "      <td>gas</td>\n",
       "      <td>volvo</td>\n",
       "      <td>turbo</td>\n",
       "      <td>four</td>\n",
       "      <td>sedan</td>\n",
       "      <td>rwd</td>\n",
       "      <td>front</td>\n",
       "      <td>109.1</td>\n",
       "      <td>188.8</td>\n",
       "      <td>...</td>\n",
       "      <td>141</td>\n",
       "      <td>mpfi</td>\n",
       "      <td>3.78</td>\n",
       "      <td>3.15</td>\n",
       "      <td>9.5</td>\n",
       "      <td>114</td>\n",
       "      <td>5400</td>\n",
       "      <td>19</td>\n",
       "      <td>25</td>\n",
       "      <td>22625.0</td>\n",
       "    </tr>\n",
       "  </tbody>\n",
       "</table>\n",
       "<p>203 rows × 25 columns</p>\n",
       "</div>"
      ],
      "text/plain": [
       "     symboling fueltypes     Car_name aspiration doornumbers      carbody  \\\n",
       "0            3       gas  alfa-romero        std         two  convertible   \n",
       "1            3       gas  alfa-romero        std         two  convertible   \n",
       "2            1       gas  alfa-romero        std         two    hatchback   \n",
       "3            2       gas         audi        std        four        sedan   \n",
       "4            2       gas         audi        std        four        sedan   \n",
       "..         ...       ...          ...        ...         ...          ...   \n",
       "198         -1       gas        volvo        std        four        sedan   \n",
       "199         -1       gas        volvo      turbo        four        sedan   \n",
       "200         -1       gas        volvo        std        four        sedan   \n",
       "201         -1    diesel        volvo      turbo        four        sedan   \n",
       "202         -1       gas        volvo      turbo        four        sedan   \n",
       "\n",
       "    drivewheels enginelocation  wheelbase  carlength  ...  enginesize  \\\n",
       "0           rwd          front       88.6      168.8  ...         130   \n",
       "1           rwd          front       88.6      168.8  ...         130   \n",
       "2           rwd          front       94.5      171.2  ...         152   \n",
       "3           fwd          front       99.8      176.6  ...         109   \n",
       "4           4wd          front       99.4      176.6  ...         136   \n",
       "..          ...            ...        ...        ...  ...         ...   \n",
       "198         rwd          front      109.1      188.8  ...         141   \n",
       "199         rwd          front      109.1      188.8  ...         141   \n",
       "200         rwd          front      109.1      188.8  ...         173   \n",
       "201         rwd          front      109.1      188.8  ...         145   \n",
       "202         rwd          front      109.1      188.8  ...         141   \n",
       "\n",
       "     fuelsystem  boreratio stroke compressionratio  horsepower peakrpm  \\\n",
       "0          mpfi       3.47   2.68              9.0         111    5000   \n",
       "1          mpfi       3.47   2.68              9.0         111    5000   \n",
       "2          mpfi       2.68   3.47              9.0         154    5000   \n",
       "3          mpfi       3.19   3.40             10.0         102    5500   \n",
       "4          mpfi       3.19   3.40              8.0         115    5500   \n",
       "..          ...        ...    ...              ...         ...     ...   \n",
       "198        mpfi       3.78   3.15              9.5         114    5400   \n",
       "199        mpfi       3.78   3.15              8.7         160    5300   \n",
       "200        mpfi       3.58   2.87              8.8         134    5500   \n",
       "201         idi       3.01   3.40             23.0         106    4800   \n",
       "202        mpfi       3.78   3.15              9.5         114    5400   \n",
       "\n",
       "     citympg  highwaympg    price  \n",
       "0         21          27  13495.0  \n",
       "1         21          27  16500.0  \n",
       "2         19          26  16500.0  \n",
       "3         24          30  13950.0  \n",
       "4         18          22  17450.0  \n",
       "..       ...         ...      ...  \n",
       "198       23          28  16845.0  \n",
       "199       19          25  19045.0  \n",
       "200       18          23  21485.0  \n",
       "201       26          27  22470.0  \n",
       "202       19          25  22625.0  \n",
       "\n",
       "[203 rows x 25 columns]"
      ]
     },
     "execution_count": 171,
     "metadata": {},
     "output_type": "execute_result"
    }
   ],
   "source": [
    "Car_name = data['name'].apply(lambda x : x.split(' ')[0])\n",
    "data.insert(3,'Car_name',Car_name)\n",
    "data.drop(['name'],axis=1,inplace=True)\n",
    "data"
   ]
  },
  {
   "cell_type": "code",
   "execution_count": 172,
   "id": "50848783",
   "metadata": {},
   "outputs": [
    {
     "data": {
      "text/plain": [
       "array(['alfa-romero', 'audi', 'bmw', 'chevrolet', 'dodge', 'honda',\n",
       "       'isuzu', 'jaguar', 'maxda', 'mazda', 'buick', 'mercury',\n",
       "       'mitsubishi', 'Nissan', 'nissan', 'peugeot', 'plymouth', 'porsche',\n",
       "       'porcshce', 'renault', 'saab', 'subaru', 'toyota', 'toyouta',\n",
       "       'vokswagen', 'volkswagen', 'vw', 'volvo'], dtype=object)"
      ]
     },
     "execution_count": 172,
     "metadata": {},
     "output_type": "execute_result"
    }
   ],
   "source": [
    "data['Car_name'].unique()"
   ]
  },
  {
   "cell_type": "code",
   "execution_count": 173,
   "id": "49aaac02",
   "metadata": {},
   "outputs": [],
   "source": [
    "data['Car_name'] = data['Car_name'].replace({'maxda': 'mazda', 'nissan': 'Nissan', 'porcshce': 'porsche', 'toyouta': 'toyota', \n",
    "                            'vokswagen': 'volkswagen', 'vw': 'volkswagen'})"
   ]
  },
  {
   "cell_type": "code",
   "execution_count": 174,
   "id": "fdcca19a",
   "metadata": {},
   "outputs": [
    {
     "data": {
      "text/plain": [
       "Index(['symboling', 'fueltypes', 'Car_name', 'aspiration', 'doornumbers',\n",
       "       'carbody', 'drivewheels', 'enginelocation', 'wheelbase', 'carlength',\n",
       "       'carwidth', 'carheight', 'curbweight', 'enginetype', 'cylindernumber',\n",
       "       'enginesize', 'fuelsystem', 'boreratio', 'stroke', 'compressionratio',\n",
       "       'horsepower', 'peakrpm', 'citympg', 'highwaympg', 'price'],\n",
       "      dtype='object')"
      ]
     },
     "execution_count": 174,
     "metadata": {},
     "output_type": "execute_result"
    }
   ],
   "source": [
    "data.columns"
   ]
  },
  {
   "cell_type": "code",
   "execution_count": 175,
   "id": "44b4ba00",
   "metadata": {},
   "outputs": [
    {
     "name": "stdout",
     "output_type": "stream",
     "text": [
      "uniques values for fueltypes : ['gas' 'diesel']\n",
      "uniques values for aspiration : ['std' 'turbo']\n",
      "uniques values for doornumbers : ['two' 'four']\n",
      "uniques values for carbody : ['convertible' 'hatchback' 'sedan' 'wagon' 'hardtop']\n",
      "uniques values for drivewheels : ['rwd' 'fwd' '4wd']\n",
      "uniques values for enginelocation : ['front' 'rear']\n",
      "uniques values for enginetype : ['dohc' 'ohcv' 'ohc' 'l' 'rotor' 'ohcf' 'dohcv']\n",
      "uniques values for cylindernumber : ['four' 'six' 'five' 'three' 'twelve' 'two' 'eight']\n",
      "uniques values for fuelsystem : ['mpfi' '2bbl' 'mfi' '1bbl' 'spfi' '4bbl' 'idi' 'spdi']\n"
     ]
    }
   ],
   "source": [
    "dataobjects = data.select_dtypes(\"object\")\n",
    "column = ['fueltypes', 'aspiration', 'doornumbers', 'carbody', 'drivewheels', 'enginelocation', 'enginetype',\n",
    "     'cylindernumber', 'fuelsystem']\n",
    "for i in column:\n",
    "    print(\"uniques values for {0} :\".format(i), data[i].unique())"
   ]
  },
  {
   "cell_type": "code",
   "execution_count": 176,
   "id": "c920a96a",
   "metadata": {},
   "outputs": [],
   "source": [
    "column = ['fueltypes', 'aspiration', 'doornumbers', 'carbody', 'drivewheels', 'enginelocation',\n",
    "          'enginetype', 'cylindernumber', 'fuelsystem']\n",
    "data['drivewheels']=data['drivewheels'].apply(lambda x: \"drivewheels_fwd\" if x==\"fwd\" else \"drivewheels_not_fwd\")\n",
    "data['aspiration']=data['aspiration'].apply(lambda x: \"aspiration_std\" if x==\"std\" else \"aspiration_turbo\")\n",
    "data['doornumbers']=data['doornumbers'].apply(lambda x: \"doornumbers2\" if x==\"two\" else \"doornumbers4\")\n",
    "data['enginelocation']=data['enginelocation'].apply(lambda x: \"enginelocation_front\" if x==\"front\"\n",
    "                                                    else \"enginelocation_rear\")\n",
    "data['enginetype']=data['enginetype'].apply(lambda x: \"enginetype_ohc\" if x==\"ohc\" else \"enginetype_not_ohc\")\n",
    "data['cylindernumber']=data['cylindernumber'].apply(lambda x: \"cylindernumber_not4\" if x!=\"four\" else \"cylindernumber4\")"
   ]
  },
  {
   "cell_type": "code",
   "execution_count": null,
   "id": "fb07b0ea",
   "metadata": {},
   "outputs": [],
   "source": [
    "sns.pairplot(df,diag_kind='kde')"
   ]
  },
  {
   "cell_type": "code",
   "execution_count": 178,
   "id": "31f636c2",
   "metadata": {},
   "outputs": [
    {
     "data": {
      "image/png": "[encoded data removed]",
      "text/plain": [
       "<Figure size 1296x720 with 2 Axes>"
      ]
     },
     "metadata": {},
     "output_type": "display_data"
    }
   ],
   "source": [
    "plt.figure(figsize=(18,10))\n",
    "sns.heatmap(data.corr(),annot=True)\n",
    "plt.show()"
   ]
  },
  {
   "cell_type": "code",
   "execution_count": 179,
   "id": "0d8afd74",
   "metadata": {},
   "outputs": [
    {
     "data": {
      "image/png": "[encoded data removed]",
      "text/plain": [
       "<Figure size 648x724.5 with 2 Axes>"
      ]
     },
     "metadata": {},
     "output_type": "display_data"
    }
   ],
   "source": [
    "# make figure and assign axis objects\n",
    "def pie_bar(ratios_pie, labels_pie, ratios_bar, labels_bar_tuple, colors_list, color_bar,bar_title,pie_title):\n",
    "    fig = plt.figure(figsize=(9, 10.0625))\n",
    "    ax1 = fig.add_subplot(121)\n",
    "    ax2 = fig.add_subplot(122)\n",
    "    fig.subplots_adjust(wspace=0)\n",
    "\n",
    "    # pie chart parameters\n",
    "    ratios = ratios_pie\n",
    "    labels = labels_pie\n",
    "    explode = [0.1, 0,0]\n",
    "    # rotate so that first wedge is split by the x-axis\n",
    "    angle = -180 * ratios[0]\n",
    "    ax1.pie(ratios, autopct='%1.1f%%', startangle=angle,\n",
    "            labels=labels, explode=explode, colors = colors_list)\n",
    "    ax1.set_title(pie_title)\n",
    "    # bar chart parameters\n",
    "    xpos = 0\n",
    "    bottom = 0\n",
    "    ratios = ratios_bar\n",
    "    width = .2\n",
    "    colors = color_bar\n",
    "\n",
    "    for j in range(len(ratios)):\n",
    "        height = ratios[j]\n",
    "        ax2.bar(xpos, height, width, bottom=bottom, color=colors[j])\n",
    "        ypos = bottom + ax2.patches[j].get_height() / 2\n",
    "        bottom += height\n",
    "        ax2.text(xpos, ypos, \"%d%%\" % (ax2.patches[j].get_height() * 100),\n",
    "                 ha='center')\n",
    "\n",
    "    ax2.set_title(bar_title)\n",
    "    ax2.legend(labels_bar_tuple)\n",
    "    ax2.axis('off')\n",
    "    ax2.set_xlim(- 2.5 * width, 2.5 * width)\n",
    "\n",
    "    # use ConnectionPatch to draw lines between the two plots\n",
    "    # get the wedge data\n",
    "    theta1, theta2 = ax1.patches[0].theta1, ax1.patches[0].theta2\n",
    "    center, r = ax1.patches[0].center, ax1.patches[0].r\n",
    "    bar_height = sum([item.get_height() for item in ax2.patches])\n",
    "\n",
    "    # draw top connecting line\n",
    "    x = r * np.cos(np.pi / 180 * theta2) + center[0]\n",
    "    y = np.sin(np.pi / 180 * theta2) + center[1]\n",
    "    con = ConnectionPatch(xyA=(- width / 2, bar_height), xyB=(x, y),\n",
    "                          coordsA=\"data\", coordsB=\"data\", axesA=ax2, axesB=ax1)\n",
    "    con.set_color([0, 0, 0])\n",
    "    con.set_linewidth(4)\n",
    "    ax2.add_artist(con)\n",
    "\n",
    "    # draw bottom connecting line\n",
    "    x = r * np.cos(np.pi / 180 * theta1) + center[0]\n",
    "    y = np.sin(np.pi / 180 * theta1) + center[1]\n",
    "    con = ConnectionPatch(xyA=(- width / 2, 0), xyB=(x, y), coordsA=\"data\",\n",
    "                          coordsB=\"data\", axesA=ax2, axesB=ax1)\n",
    "    con.set_color([0, 0, 0])\n",
    "    ax2.add_artist(con)\n",
    "    con.set_linewidth(4)\n",
    "\n",
    "    return plt.show()\n",
    "\n",
    "\n",
    "labels_pie = df.drivewheels.value_counts(normalize=True).index.tolist()\n",
    "ratios_pie = df.drivewheels.value_counts(normalize=True).tolist()\n",
    "ratios_bar = df[df.drivewheels ==\"fwd\"].carbody.value_counts(normalize=True).tolist()\n",
    "labels_bar_tuple = tuple(df[df.drivewheels ==\"fwd\"].carbody.value_counts(normalize=True).index.tolist())\n",
    "color_bar = ['red', 'green', 'blue', 'yellow', 'grey']\n",
    "color_pie = ['lightcoral', 'lime','grey']\n",
    "pie_bar(ratios_pie, labels_pie, ratios_bar, labels_bar_tuple, color_pie, color_bar, \"Car body\",\"Drive Wheels\")"
   ]
  },
  {
   "cell_type": "code",
   "execution_count": 180,
   "id": "2f6656ae",
   "metadata": {},
   "outputs": [
    {
     "data": {
      "image/png": "[encoded data removed]",
      "text/plain": [
       "<Figure size 648x724.5 with 2 Axes>"
      ]
     },
     "metadata": {},
     "output_type": "display_data"
    }
   ],
   "source": [
    "labels_pie = df.drivewheels.value_counts(normalize=True).index.tolist()\n",
    "labels_pie.insert(0, labels_pie.pop(2))\n",
    "ratios_pie = df.drivewheels.value_counts(normalize=True).tolist()\n",
    "ratios_pie.insert(0, ratios_pie.pop(2))\n",
    "ratios_bar = df[df.drivewheels ==\"4wd\"].carbody.value_counts(normalize=True).tolist()\n",
    "labels_bar_tuple = tuple(df[df.drivewheels ==\"4wd\"].carbody.value_counts(normalize=True).index.tolist())\n",
    "color_bar = ['red', 'green', 'blue', 'yellow', 'grey']\n",
    "color_pie = ['grey', 'lightcoral','lime']\n",
    "pie_bar(ratios_pie, labels_pie, ratios_bar, labels_bar_tuple, color_pie, color_bar, \"Car body\",'Drive Wheels')"
   ]
  },
  {
   "cell_type": "code",
   "execution_count": 181,
   "id": "367390e6",
   "metadata": {},
   "outputs": [
    {
     "data": {
      "image/png": "[encoded data removed]",
      "text/plain": [
       "<Figure size 648x724.5 with 2 Axes>"
      ]
     },
     "metadata": {},
     "output_type": "display_data"
    }
   ],
   "source": [
    "labels_pie = df.drivewheels.value_counts(normalize=True).index.tolist()\n",
    "labels_pie.insert(0, labels_pie.pop(1))\n",
    "ratios_pie = df.drivewheels.value_counts(normalize=True).tolist()\n",
    "ratios_pie.insert(0, ratios_pie.pop(1))\n",
    "ratios_bar = df[df.drivewheels ==\"rwd\"].carbody.value_counts(normalize=True).tolist()\n",
    "labels_bar_tuple = tuple(df[df.drivewheels ==\"rwd\"].carbody.value_counts(normalize=True).index.tolist())\n",
    "color_bar = ['red', 'green', 'blue', 'yellow', 'grey']\n",
    "color_pie = ['lime', 'lightcoral','grey']\n",
    "pie_bar(ratios_pie, labels_pie, ratios_bar, labels_bar_tuple, color_pie, color_bar, \"Car body\",'Drive Wheels')"
   ]
  },
  {
   "cell_type": "code",
   "execution_count": 182,
   "id": "2dc4dd13",
   "metadata": {},
   "outputs": [
    {
     "data": {
      "text/plain": [
       "Index(['wheelbase', 'carlength', 'carwidth', 'carheight', 'boreratio',\n",
       "       'stroke', 'compressionratio', 'price'],\n",
       "      dtype='object')"
      ]
     },
     "execution_count": 182,
     "metadata": {},
     "output_type": "execute_result"
    }
   ],
   "source": [
    "data.select_dtypes(\"int\").columns\n",
    "data.select_dtypes(\"float\").columns"
   ]
  },
  {
   "cell_type": "code",
   "execution_count": 183,
   "id": "5acf03ae",
   "metadata": {},
   "outputs": [
    {
     "data": {
      "image/png": "[encoded data removed]",
      "text/plain": [
       "<Figure size 1296x576 with 15 Axes>"
      ]
     },
     "metadata": {},
     "output_type": "display_data"
    }
   ],
   "source": [
    "sns.set_style(\"dark\")\n",
    "\n",
    "col=['symboling', 'curbweight', 'enginesize', 'horsepower', 'peakrpm',\n",
    "       'citympg', 'highwaympg', 'wheelbase', 'carlength', 'carwidth', 'carheight', 'boreratio',\n",
    "       'stroke', 'compressionratio', 'price']\n",
    "\n",
    "plt.figure(figsize=(18,8))\n",
    "n=np.arange(0,17,1)\n",
    "\n",
    "for i,k in zip(col,n):\n",
    "    plt.subplot(3,5,k+1)\n",
    "    plt.boxplot(data[i])\n",
    "    plt.title(col[k])\n",
    "    plt.tight_layout()"
   ]
  },
  {
   "cell_type": "code",
   "execution_count": 222,
   "id": "349269b6",
   "metadata": {},
   "outputs": [
    {
     "data": {
      "text/plain": [
       "<AxesSubplot:>"
      ]
     },
     "execution_count": 222,
     "metadata": {},
     "output_type": "execute_result"
    },
    {
     "data": {
      "image/png": "[encoded data removed]",
      "text/plain": [
       "<Figure size 1800x288 with 1 Axes>"
      ]
     },
     "metadata": {},
     "output_type": "display_data"
    }
   ],
   "source": [
    "sns.set_style(\"dark\")\n",
    "plt.figure(figsize=(25,4))\n",
    "\n",
    "data['compressionratio'].mode()  # mode is 9.0\n",
    "data['compressionratio']=data['compressionratio'].apply(lambda x: 11.0 if x>11.0 else x)\n",
    "\n",
    "data['horsepower']=data['horsepower'].apply(lambda x: 120 if x>200 else x)\n",
    "\n",
    "data['horsepower'].mode()  # mode is 68.0\n",
    "data['horsepower']=data['horsepower'].apply(lambda x: 68 if x>190 else x)\n",
    "\n",
    "data['carwidth'].mode()  # mode is 68.0\n",
    "data['carwidth']=data['carwidth'].apply(lambda x: 70 if x>71 else x)\n",
    "\n",
    "data['price'].mode()  # mode is 68.0\n",
    "data['price']=data['price'].apply(lambda x: 30000 if x>30000 else x)\n",
    "\n",
    "data['enginesize'].mode()  # mode is 68.0\n",
    "data['enginesize']=data['enginesize'].apply(lambda x: 200 if x>200 else x)\n",
    "\n",
    "col2=['symboling', 'curbweight', 'enginesize', 'horsepower', 'peakrpm',\n",
    "       'citympg', 'highwaympg', 'wheelbase', 'carlength', 'carwidth', 'carheight', 'boreratio',\n",
    "       'stroke', 'compressionratio', 'price']\n",
    "\n",
    "data[col2].boxplot()"
   ]
  },
  {
   "cell_type": "code",
   "execution_count": 185,
   "id": "4e12245d",
   "metadata": {},
   "outputs": [
    {
     "name": "stdout",
     "output_type": "stream",
     "text": [
      "gas       184\n",
      "diesel     19\n",
      "Name: fueltypes, dtype: int64\n",
      "\n",
      "\n",
      "aspiration_std      166\n",
      "aspiration_turbo     37\n",
      "Name: aspiration, dtype: int64\n",
      "\n",
      "\n",
      "doornumbers4    113\n",
      "doornumbers2     90\n",
      "Name: doornumbers, dtype: int64\n",
      "\n",
      "\n",
      "sedan          94\n",
      "hatchback      70\n",
      "wagon          25\n",
      "hardtop         8\n",
      "convertible     6\n",
      "Name: carbody, dtype: int64\n",
      "\n",
      "\n",
      "drivewheels_fwd        120\n",
      "drivewheels_not_fwd     83\n",
      "Name: drivewheels, dtype: int64\n",
      "\n",
      "\n",
      "enginelocation_front    200\n",
      "enginelocation_rear       3\n",
      "Name: enginelocation, dtype: int64\n",
      "\n",
      "\n",
      "enginetype_ohc        146\n",
      "enginetype_not_ohc     57\n",
      "Name: enginetype, dtype: int64\n",
      "\n",
      "\n",
      "cylindernumber4        157\n",
      "cylindernumber_not4     46\n",
      "Name: cylindernumber, dtype: int64\n",
      "\n",
      "\n",
      "mpfi    93\n",
      "2bbl    66\n",
      "idi     19\n",
      "1bbl    11\n",
      "spdi     9\n",
      "4bbl     3\n",
      "mfi      1\n",
      "spfi     1\n",
      "Name: fuelsystem, dtype: int64\n",
      "\n",
      "\n"
     ]
    }
   ],
   "source": [
    "col=['fueltypes', 'aspiration', 'doornumbers', 'carbody', 'drivewheels', 'enginelocation', 'enginetype',\n",
    "     'cylindernumber', 'fuelsystem']\n",
    "for i in col:\n",
    "    print(data[i].value_counts())\n",
    "    print(\"\\n\")"
   ]
  },
  {
   "cell_type": "code",
   "execution_count": 186,
   "id": "1b7de5c4",
   "metadata": {},
   "outputs": [
    {
     "data": {
      "text/html": [
       "<div>\n",
       "<style scoped>\n",
       "    .dataframe tbody tr th:only-of-type {\n",
       "        vertical-align: middle;\n",
       "    }\n",
       "\n",
       "    .dataframe tbody tr th {\n",
       "        vertical-align: top;\n",
       "    }\n",
       "\n",
       "    .dataframe thead th {\n",
       "        text-align: right;\n",
       "    }\n",
       "</style>\n",
       "<table border=\"1\" class=\"dataframe\">\n",
       "  <thead>\n",
       "    <tr style=\"text-align: right;\">\n",
       "      <th></th>\n",
       "      <th>VIF</th>\n",
       "      <th>Features</th>\n",
       "    </tr>\n",
       "  </thead>\n",
       "  <tbody>\n",
       "    <tr>\n",
       "      <th>0</th>\n",
       "      <td>1.936422</td>\n",
       "      <td>symboling</td>\n",
       "    </tr>\n",
       "    <tr>\n",
       "      <th>1</th>\n",
       "      <td>469.453345</td>\n",
       "      <td>carheight</td>\n",
       "    </tr>\n",
       "    <tr>\n",
       "      <th>2</th>\n",
       "      <td>221.564665</td>\n",
       "      <td>curbweight</td>\n",
       "    </tr>\n",
       "    <tr>\n",
       "      <th>3</th>\n",
       "      <td>80.403709</td>\n",
       "      <td>enginesize</td>\n",
       "    </tr>\n",
       "    <tr>\n",
       "      <th>4</th>\n",
       "      <td>242.482464</td>\n",
       "      <td>boreratio</td>\n",
       "    </tr>\n",
       "    <tr>\n",
       "      <th>5</th>\n",
       "      <td>118.043647</td>\n",
       "      <td>stroke</td>\n",
       "    </tr>\n",
       "    <tr>\n",
       "      <th>6</th>\n",
       "      <td>201.013269</td>\n",
       "      <td>compressionratio</td>\n",
       "    </tr>\n",
       "    <tr>\n",
       "      <th>7</th>\n",
       "      <td>54.384122</td>\n",
       "      <td>horsepower</td>\n",
       "    </tr>\n",
       "    <tr>\n",
       "      <th>8</th>\n",
       "      <td>133.252147</td>\n",
       "      <td>peakrpm</td>\n",
       "    </tr>\n",
       "    <tr>\n",
       "      <th>9</th>\n",
       "      <td>78.808845</td>\n",
       "      <td>citympg</td>\n",
       "    </tr>\n",
       "  </tbody>\n",
       "</table>\n",
       "</div>"
      ],
      "text/plain": [
       "          VIF          Features\n",
       "0    1.936422         symboling\n",
       "1  469.453345         carheight\n",
       "2  221.564665        curbweight\n",
       "3   80.403709        enginesize\n",
       "4  242.482464         boreratio\n",
       "5  118.043647            stroke\n",
       "6  201.013269  compressionratio\n",
       "7   54.384122        horsepower\n",
       "8  133.252147           peakrpm\n",
       "9   78.808845           citympg"
      ]
     },
     "execution_count": 186,
     "metadata": {},
     "output_type": "execute_result"
    }
   ],
   "source": [
    "from statsmodels.stats.outliers_influence import variance_inflation_factor\n",
    "\n",
    "variables = data[['symboling', 'carheight', 'curbweight',\n",
    "        'enginesize',  'boreratio',\n",
    "       'stroke', 'compressionratio', 'horsepower', 'peakrpm', 'citympg']]\n",
    "\n",
    "\n",
    "# we create a new data frame which will include all the VIFs\n",
    "# note that each variable has its own variance inflation factor as this measure is variable specific (not model specific)\n",
    "vif = pd.DataFrame()\n",
    "\n",
    "# here we make use of the variance_inflation_factor, which will basically output the respective VIFs \n",
    "vif[\"VIF\"] = [variance_inflation_factor(variables.values, i) for i in range(variables.shape[1])]\n",
    "# Finally, I like to include names so it is easier to explore the result\n",
    "vif[\"Features\"] = variables.columns\n",
    "vif"
   ]
  },
  {
   "cell_type": "code",
   "execution_count": 187,
   "id": "9cf109b3",
   "metadata": {},
   "outputs": [
    {
     "data": {
      "text/html": [
       "<div>\n",
       "<style scoped>\n",
       "    .dataframe tbody tr th:only-of-type {\n",
       "        vertical-align: middle;\n",
       "    }\n",
       "\n",
       "    .dataframe tbody tr th {\n",
       "        vertical-align: top;\n",
       "    }\n",
       "\n",
       "    .dataframe thead th {\n",
       "        text-align: right;\n",
       "    }\n",
       "</style>\n",
       "<table border=\"1\" class=\"dataframe\">\n",
       "  <thead>\n",
       "    <tr style=\"text-align: right;\">\n",
       "      <th></th>\n",
       "      <th>VIF</th>\n",
       "      <th>Features</th>\n",
       "    </tr>\n",
       "  </thead>\n",
       "  <tbody>\n",
       "    <tr>\n",
       "      <th>0</th>\n",
       "      <td>1.440664</td>\n",
       "      <td>symboling</td>\n",
       "    </tr>\n",
       "    <tr>\n",
       "      <th>1</th>\n",
       "      <td>3.870451</td>\n",
       "      <td>horsepower</td>\n",
       "    </tr>\n",
       "    <tr>\n",
       "      <th>2</th>\n",
       "      <td>3.892633</td>\n",
       "      <td>citympg</td>\n",
       "    </tr>\n",
       "  </tbody>\n",
       "</table>\n",
       "</div>"
      ],
      "text/plain": [
       "        VIF    Features\n",
       "0  1.440664   symboling\n",
       "1  3.870451  horsepower\n",
       "2  3.892633     citympg"
      ]
     },
     "execution_count": 187,
     "metadata": {},
     "output_type": "execute_result"
    }
   ],
   "source": [
    "from statsmodels.stats.outliers_influence import variance_inflation_factor\n",
    "variables = data[['symboling',\n",
    "       'horsepower', 'citympg']]\n",
    "\n",
    "vif = pd.DataFrame()\n",
    "vif[\"VIF\"] = [variance_inflation_factor(variables.values, i) for i in range(variables.shape[1])]\n",
    "vif[\"Features\"] = variables.columns\n",
    "vif"
   ]
  },
  {
   "cell_type": "code",
   "execution_count": 188,
   "id": "27a747a0",
   "metadata": {},
   "outputs": [
    {
     "data": {
      "text/html": [
       "<div>\n",
       "<style scoped>\n",
       "    .dataframe tbody tr th:only-of-type {\n",
       "        vertical-align: middle;\n",
       "    }\n",
       "\n",
       "    .dataframe tbody tr th {\n",
       "        vertical-align: top;\n",
       "    }\n",
       "\n",
       "    .dataframe thead th {\n",
       "        text-align: right;\n",
       "    }\n",
       "</style>\n",
       "<table border=\"1\" class=\"dataframe\">\n",
       "  <thead>\n",
       "    <tr style=\"text-align: right;\">\n",
       "      <th></th>\n",
       "      <th>symboling</th>\n",
       "      <th>fueltypes</th>\n",
       "      <th>Car_name</th>\n",
       "      <th>aspiration</th>\n",
       "      <th>doornumbers</th>\n",
       "      <th>carbody</th>\n",
       "      <th>drivewheels</th>\n",
       "      <th>enginelocation</th>\n",
       "      <th>enginetype</th>\n",
       "      <th>cylindernumber</th>\n",
       "      <th>fuelsystem</th>\n",
       "      <th>horsepower</th>\n",
       "      <th>citympg</th>\n",
       "      <th>price</th>\n",
       "    </tr>\n",
       "  </thead>\n",
       "  <tbody>\n",
       "    <tr>\n",
       "      <th>0</th>\n",
       "      <td>3</td>\n",
       "      <td>gas</td>\n",
       "      <td>alfa-romero</td>\n",
       "      <td>aspiration_std</td>\n",
       "      <td>doornumbers2</td>\n",
       "      <td>convertible</td>\n",
       "      <td>drivewheels_not_fwd</td>\n",
       "      <td>enginelocation_front</td>\n",
       "      <td>enginetype_not_ohc</td>\n",
       "      <td>cylindernumber4</td>\n",
       "      <td>mpfi</td>\n",
       "      <td>111</td>\n",
       "      <td>21</td>\n",
       "      <td>13495.0</td>\n",
       "    </tr>\n",
       "    <tr>\n",
       "      <th>1</th>\n",
       "      <td>3</td>\n",
       "      <td>gas</td>\n",
       "      <td>alfa-romero</td>\n",
       "      <td>aspiration_std</td>\n",
       "      <td>doornumbers2</td>\n",
       "      <td>convertible</td>\n",
       "      <td>drivewheels_not_fwd</td>\n",
       "      <td>enginelocation_front</td>\n",
       "      <td>enginetype_not_ohc</td>\n",
       "      <td>cylindernumber4</td>\n",
       "      <td>mpfi</td>\n",
       "      <td>111</td>\n",
       "      <td>21</td>\n",
       "      <td>16500.0</td>\n",
       "    </tr>\n",
       "    <tr>\n",
       "      <th>2</th>\n",
       "      <td>1</td>\n",
       "      <td>gas</td>\n",
       "      <td>alfa-romero</td>\n",
       "      <td>aspiration_std</td>\n",
       "      <td>doornumbers2</td>\n",
       "      <td>hatchback</td>\n",
       "      <td>drivewheels_not_fwd</td>\n",
       "      <td>enginelocation_front</td>\n",
       "      <td>enginetype_not_ohc</td>\n",
       "      <td>cylindernumber_not4</td>\n",
       "      <td>mpfi</td>\n",
       "      <td>154</td>\n",
       "      <td>19</td>\n",
       "      <td>16500.0</td>\n",
       "    </tr>\n",
       "    <tr>\n",
       "      <th>3</th>\n",
       "      <td>2</td>\n",
       "      <td>gas</td>\n",
       "      <td>audi</td>\n",
       "      <td>aspiration_std</td>\n",
       "      <td>doornumbers4</td>\n",
       "      <td>sedan</td>\n",
       "      <td>drivewheels_fwd</td>\n",
       "      <td>enginelocation_front</td>\n",
       "      <td>enginetype_ohc</td>\n",
       "      <td>cylindernumber4</td>\n",
       "      <td>mpfi</td>\n",
       "      <td>102</td>\n",
       "      <td>24</td>\n",
       "      <td>13950.0</td>\n",
       "    </tr>\n",
       "    <tr>\n",
       "      <th>4</th>\n",
       "      <td>2</td>\n",
       "      <td>gas</td>\n",
       "      <td>audi</td>\n",
       "      <td>aspiration_std</td>\n",
       "      <td>doornumbers4</td>\n",
       "      <td>sedan</td>\n",
       "      <td>drivewheels_not_fwd</td>\n",
       "      <td>enginelocation_front</td>\n",
       "      <td>enginetype_ohc</td>\n",
       "      <td>cylindernumber_not4</td>\n",
       "      <td>mpfi</td>\n",
       "      <td>115</td>\n",
       "      <td>18</td>\n",
       "      <td>17450.0</td>\n",
       "    </tr>\n",
       "    <tr>\n",
       "      <th>...</th>\n",
       "      <td>...</td>\n",
       "      <td>...</td>\n",
       "      <td>...</td>\n",
       "      <td>...</td>\n",
       "      <td>...</td>\n",
       "      <td>...</td>\n",
       "      <td>...</td>\n",
       "      <td>...</td>\n",
       "      <td>...</td>\n",
       "      <td>...</td>\n",
       "      <td>...</td>\n",
       "      <td>...</td>\n",
       "      <td>...</td>\n",
       "      <td>...</td>\n",
       "    </tr>\n",
       "    <tr>\n",
       "      <th>198</th>\n",
       "      <td>-1</td>\n",
       "      <td>gas</td>\n",
       "      <td>volvo</td>\n",
       "      <td>aspiration_std</td>\n",
       "      <td>doornumbers4</td>\n",
       "      <td>sedan</td>\n",
       "      <td>drivewheels_not_fwd</td>\n",
       "      <td>enginelocation_front</td>\n",
       "      <td>enginetype_ohc</td>\n",
       "      <td>cylindernumber4</td>\n",
       "      <td>mpfi</td>\n",
       "      <td>114</td>\n",
       "      <td>23</td>\n",
       "      <td>16845.0</td>\n",
       "    </tr>\n",
       "    <tr>\n",
       "      <th>199</th>\n",
       "      <td>-1</td>\n",
       "      <td>gas</td>\n",
       "      <td>volvo</td>\n",
       "      <td>aspiration_turbo</td>\n",
       "      <td>doornumbers4</td>\n",
       "      <td>sedan</td>\n",
       "      <td>drivewheels_not_fwd</td>\n",
       "      <td>enginelocation_front</td>\n",
       "      <td>enginetype_ohc</td>\n",
       "      <td>cylindernumber4</td>\n",
       "      <td>mpfi</td>\n",
       "      <td>160</td>\n",
       "      <td>19</td>\n",
       "      <td>19045.0</td>\n",
       "    </tr>\n",
       "    <tr>\n",
       "      <th>200</th>\n",
       "      <td>-1</td>\n",
       "      <td>gas</td>\n",
       "      <td>volvo</td>\n",
       "      <td>aspiration_std</td>\n",
       "      <td>doornumbers4</td>\n",
       "      <td>sedan</td>\n",
       "      <td>drivewheels_not_fwd</td>\n",
       "      <td>enginelocation_front</td>\n",
       "      <td>enginetype_not_ohc</td>\n",
       "      <td>cylindernumber_not4</td>\n",
       "      <td>mpfi</td>\n",
       "      <td>134</td>\n",
       "      <td>18</td>\n",
       "      <td>21485.0</td>\n",
       "    </tr>\n",
       "    <tr>\n",
       "      <th>201</th>\n",
       "      <td>-1</td>\n",
       "      <td>diesel</td>\n",
       "      <td>volvo</td>\n",
       "      <td>aspiration_turbo</td>\n",
       "      <td>doornumbers4</td>\n",
       "      <td>sedan</td>\n",
       "      <td>drivewheels_not_fwd</td>\n",
       "      <td>enginelocation_front</td>\n",
       "      <td>enginetype_ohc</td>\n",
       "      <td>cylindernumber_not4</td>\n",
       "      <td>idi</td>\n",
       "      <td>106</td>\n",
       "      <td>26</td>\n",
       "      <td>22470.0</td>\n",
       "    </tr>\n",
       "    <tr>\n",
       "      <th>202</th>\n",
       "      <td>-1</td>\n",
       "      <td>gas</td>\n",
       "      <td>volvo</td>\n",
       "      <td>aspiration_turbo</td>\n",
       "      <td>doornumbers4</td>\n",
       "      <td>sedan</td>\n",
       "      <td>drivewheels_not_fwd</td>\n",
       "      <td>enginelocation_front</td>\n",
       "      <td>enginetype_ohc</td>\n",
       "      <td>cylindernumber4</td>\n",
       "      <td>mpfi</td>\n",
       "      <td>114</td>\n",
       "      <td>19</td>\n",
       "      <td>22625.0</td>\n",
       "    </tr>\n",
       "  </tbody>\n",
       "</table>\n",
       "<p>203 rows × 14 columns</p>\n",
       "</div>"
      ],
      "text/plain": [
       "     symboling fueltypes     Car_name        aspiration   doornumbers  \\\n",
       "0            3       gas  alfa-romero    aspiration_std  doornumbers2   \n",
       "1            3       gas  alfa-romero    aspiration_std  doornumbers2   \n",
       "2            1       gas  alfa-romero    aspiration_std  doornumbers2   \n",
       "3            2       gas         audi    aspiration_std  doornumbers4   \n",
       "4            2       gas         audi    aspiration_std  doornumbers4   \n",
       "..         ...       ...          ...               ...           ...   \n",
       "198         -1       gas        volvo    aspiration_std  doornumbers4   \n",
       "199         -1       gas        volvo  aspiration_turbo  doornumbers4   \n",
       "200         -1       gas        volvo    aspiration_std  doornumbers4   \n",
       "201         -1    diesel        volvo  aspiration_turbo  doornumbers4   \n",
       "202         -1       gas        volvo  aspiration_turbo  doornumbers4   \n",
       "\n",
       "         carbody          drivewheels        enginelocation  \\\n",
       "0    convertible  drivewheels_not_fwd  enginelocation_front   \n",
       "1    convertible  drivewheels_not_fwd  enginelocation_front   \n",
       "2      hatchback  drivewheels_not_fwd  enginelocation_front   \n",
       "3          sedan      drivewheels_fwd  enginelocation_front   \n",
       "4          sedan  drivewheels_not_fwd  enginelocation_front   \n",
       "..           ...                  ...                   ...   \n",
       "198        sedan  drivewheels_not_fwd  enginelocation_front   \n",
       "199        sedan  drivewheels_not_fwd  enginelocation_front   \n",
       "200        sedan  drivewheels_not_fwd  enginelocation_front   \n",
       "201        sedan  drivewheels_not_fwd  enginelocation_front   \n",
       "202        sedan  drivewheels_not_fwd  enginelocation_front   \n",
       "\n",
       "             enginetype       cylindernumber fuelsystem  horsepower  citympg  \\\n",
       "0    enginetype_not_ohc      cylindernumber4       mpfi         111       21   \n",
       "1    enginetype_not_ohc      cylindernumber4       mpfi         111       21   \n",
       "2    enginetype_not_ohc  cylindernumber_not4       mpfi         154       19   \n",
       "3        enginetype_ohc      cylindernumber4       mpfi         102       24   \n",
       "4        enginetype_ohc  cylindernumber_not4       mpfi         115       18   \n",
       "..                  ...                  ...        ...         ...      ...   \n",
       "198      enginetype_ohc      cylindernumber4       mpfi         114       23   \n",
       "199      enginetype_ohc      cylindernumber4       mpfi         160       19   \n",
       "200  enginetype_not_ohc  cylindernumber_not4       mpfi         134       18   \n",
       "201      enginetype_ohc  cylindernumber_not4        idi         106       26   \n",
       "202      enginetype_ohc      cylindernumber4       mpfi         114       19   \n",
       "\n",
       "       price  \n",
       "0    13495.0  \n",
       "1    16500.0  \n",
       "2    16500.0  \n",
       "3    13950.0  \n",
       "4    17450.0  \n",
       "..       ...  \n",
       "198  16845.0  \n",
       "199  19045.0  \n",
       "200  21485.0  \n",
       "201  22470.0  \n",
       "202  22625.0  \n",
       "\n",
       "[203 rows x 14 columns]"
      ]
     },
     "execution_count": 188,
     "metadata": {},
     "output_type": "execute_result"
    }
   ],
   "source": [
    "data_multi=data.drop(['carheight','compressionratio','boreratio','stroke','curbweight','peakrpm','enginesize','wheelbase','carwidth','carlength','highwaympg'],axis=1)\n",
    "data_multi"
   ]
  },
  {
   "cell_type": "code",
   "execution_count": 189,
   "id": "8b266134",
   "metadata": {
    "scrolled": true
   },
   "outputs": [
    {
     "data": {
      "text/html": [
       "<div>\n",
       "<style scoped>\n",
       "    .dataframe tbody tr th:only-of-type {\n",
       "        vertical-align: middle;\n",
       "    }\n",
       "\n",
       "    .dataframe tbody tr th {\n",
       "        vertical-align: top;\n",
       "    }\n",
       "\n",
       "    .dataframe thead th {\n",
       "        text-align: right;\n",
       "    }\n",
       "</style>\n",
       "<table border=\"1\" class=\"dataframe\">\n",
       "  <thead>\n",
       "    <tr style=\"text-align: right;\">\n",
       "      <th></th>\n",
       "      <th>symboling</th>\n",
       "      <th>horsepower</th>\n",
       "      <th>citympg</th>\n",
       "      <th>price</th>\n",
       "      <th>fueltypes_gas</th>\n",
       "      <th>Car_name_alfa-romero</th>\n",
       "      <th>Car_name_audi</th>\n",
       "      <th>Car_name_bmw</th>\n",
       "      <th>Car_name_buick</th>\n",
       "      <th>Car_name_chevrolet</th>\n",
       "      <th>...</th>\n",
       "      <th>enginelocation_enginelocation_rear</th>\n",
       "      <th>enginetype_enginetype_ohc</th>\n",
       "      <th>cylindernumber_cylindernumber_not4</th>\n",
       "      <th>fuelsystem_2bbl</th>\n",
       "      <th>fuelsystem_4bbl</th>\n",
       "      <th>fuelsystem_idi</th>\n",
       "      <th>fuelsystem_mfi</th>\n",
       "      <th>fuelsystem_mpfi</th>\n",
       "      <th>fuelsystem_spdi</th>\n",
       "      <th>fuelsystem_spfi</th>\n",
       "    </tr>\n",
       "  </thead>\n",
       "  <tbody>\n",
       "    <tr>\n",
       "      <th>0</th>\n",
       "      <td>3</td>\n",
       "      <td>111</td>\n",
       "      <td>21</td>\n",
       "      <td>13495.0</td>\n",
       "      <td>1</td>\n",
       "      <td>1</td>\n",
       "      <td>0</td>\n",
       "      <td>0</td>\n",
       "      <td>0</td>\n",
       "      <td>0</td>\n",
       "      <td>...</td>\n",
       "      <td>0</td>\n",
       "      <td>0</td>\n",
       "      <td>0</td>\n",
       "      <td>0</td>\n",
       "      <td>0</td>\n",
       "      <td>0</td>\n",
       "      <td>0</td>\n",
       "      <td>1</td>\n",
       "      <td>0</td>\n",
       "      <td>0</td>\n",
       "    </tr>\n",
       "    <tr>\n",
       "      <th>1</th>\n",
       "      <td>3</td>\n",
       "      <td>111</td>\n",
       "      <td>21</td>\n",
       "      <td>16500.0</td>\n",
       "      <td>1</td>\n",
       "      <td>1</td>\n",
       "      <td>0</td>\n",
       "      <td>0</td>\n",
       "      <td>0</td>\n",
       "      <td>0</td>\n",
       "      <td>...</td>\n",
       "      <td>0</td>\n",
       "      <td>0</td>\n",
       "      <td>0</td>\n",
       "      <td>0</td>\n",
       "      <td>0</td>\n",
       "      <td>0</td>\n",
       "      <td>0</td>\n",
       "      <td>1</td>\n",
       "      <td>0</td>\n",
       "      <td>0</td>\n",
       "    </tr>\n",
       "    <tr>\n",
       "      <th>2</th>\n",
       "      <td>1</td>\n",
       "      <td>154</td>\n",
       "      <td>19</td>\n",
       "      <td>16500.0</td>\n",
       "      <td>1</td>\n",
       "      <td>1</td>\n",
       "      <td>0</td>\n",
       "      <td>0</td>\n",
       "      <td>0</td>\n",
       "      <td>0</td>\n",
       "      <td>...</td>\n",
       "      <td>0</td>\n",
       "      <td>0</td>\n",
       "      <td>1</td>\n",
       "      <td>0</td>\n",
       "      <td>0</td>\n",
       "      <td>0</td>\n",
       "      <td>0</td>\n",
       "      <td>1</td>\n",
       "      <td>0</td>\n",
       "      <td>0</td>\n",
       "    </tr>\n",
       "    <tr>\n",
       "      <th>3</th>\n",
       "      <td>2</td>\n",
       "      <td>102</td>\n",
       "      <td>24</td>\n",
       "      <td>13950.0</td>\n",
       "      <td>1</td>\n",
       "      <td>0</td>\n",
       "      <td>1</td>\n",
       "      <td>0</td>\n",
       "      <td>0</td>\n",
       "      <td>0</td>\n",
       "      <td>...</td>\n",
       "      <td>0</td>\n",
       "      <td>1</td>\n",
       "      <td>0</td>\n",
       "      <td>0</td>\n",
       "      <td>0</td>\n",
       "      <td>0</td>\n",
       "      <td>0</td>\n",
       "      <td>1</td>\n",
       "      <td>0</td>\n",
       "      <td>0</td>\n",
       "    </tr>\n",
       "    <tr>\n",
       "      <th>4</th>\n",
       "      <td>2</td>\n",
       "      <td>115</td>\n",
       "      <td>18</td>\n",
       "      <td>17450.0</td>\n",
       "      <td>1</td>\n",
       "      <td>0</td>\n",
       "      <td>1</td>\n",
       "      <td>0</td>\n",
       "      <td>0</td>\n",
       "      <td>0</td>\n",
       "      <td>...</td>\n",
       "      <td>0</td>\n",
       "      <td>1</td>\n",
       "      <td>1</td>\n",
       "      <td>0</td>\n",
       "      <td>0</td>\n",
       "      <td>0</td>\n",
       "      <td>0</td>\n",
       "      <td>1</td>\n",
       "      <td>0</td>\n",
       "      <td>0</td>\n",
       "    </tr>\n",
       "    <tr>\n",
       "      <th>...</th>\n",
       "      <td>...</td>\n",
       "      <td>...</td>\n",
       "      <td>...</td>\n",
       "      <td>...</td>\n",
       "      <td>...</td>\n",
       "      <td>...</td>\n",
       "      <td>...</td>\n",
       "      <td>...</td>\n",
       "      <td>...</td>\n",
       "      <td>...</td>\n",
       "      <td>...</td>\n",
       "      <td>...</td>\n",
       "      <td>...</td>\n",
       "      <td>...</td>\n",
       "      <td>...</td>\n",
       "      <td>...</td>\n",
       "      <td>...</td>\n",
       "      <td>...</td>\n",
       "      <td>...</td>\n",
       "      <td>...</td>\n",
       "      <td>...</td>\n",
       "    </tr>\n",
       "    <tr>\n",
       "      <th>198</th>\n",
       "      <td>-1</td>\n",
       "      <td>114</td>\n",
       "      <td>23</td>\n",
       "      <td>16845.0</td>\n",
       "      <td>1</td>\n",
       "      <td>0</td>\n",
       "      <td>0</td>\n",
       "      <td>0</td>\n",
       "      <td>0</td>\n",
       "      <td>0</td>\n",
       "      <td>...</td>\n",
       "      <td>0</td>\n",
       "      <td>1</td>\n",
       "      <td>0</td>\n",
       "      <td>0</td>\n",
       "      <td>0</td>\n",
       "      <td>0</td>\n",
       "      <td>0</td>\n",
       "      <td>1</td>\n",
       "      <td>0</td>\n",
       "      <td>0</td>\n",
       "    </tr>\n",
       "    <tr>\n",
       "      <th>199</th>\n",
       "      <td>-1</td>\n",
       "      <td>160</td>\n",
       "      <td>19</td>\n",
       "      <td>19045.0</td>\n",
       "      <td>1</td>\n",
       "      <td>0</td>\n",
       "      <td>0</td>\n",
       "      <td>0</td>\n",
       "      <td>0</td>\n",
       "      <td>0</td>\n",
       "      <td>...</td>\n",
       "      <td>0</td>\n",
       "      <td>1</td>\n",
       "      <td>0</td>\n",
       "      <td>0</td>\n",
       "      <td>0</td>\n",
       "      <td>0</td>\n",
       "      <td>0</td>\n",
       "      <td>1</td>\n",
       "      <td>0</td>\n",
       "      <td>0</td>\n",
       "    </tr>\n",
       "    <tr>\n",
       "      <th>200</th>\n",
       "      <td>-1</td>\n",
       "      <td>134</td>\n",
       "      <td>18</td>\n",
       "      <td>21485.0</td>\n",
       "      <td>1</td>\n",
       "      <td>0</td>\n",
       "      <td>0</td>\n",
       "      <td>0</td>\n",
       "      <td>0</td>\n",
       "      <td>0</td>\n",
       "      <td>...</td>\n",
       "      <td>0</td>\n",
       "      <td>0</td>\n",
       "      <td>1</td>\n",
       "      <td>0</td>\n",
       "      <td>0</td>\n",
       "      <td>0</td>\n",
       "      <td>0</td>\n",
       "      <td>1</td>\n",
       "      <td>0</td>\n",
       "      <td>0</td>\n",
       "    </tr>\n",
       "    <tr>\n",
       "      <th>201</th>\n",
       "      <td>-1</td>\n",
       "      <td>106</td>\n",
       "      <td>26</td>\n",
       "      <td>22470.0</td>\n",
       "      <td>0</td>\n",
       "      <td>0</td>\n",
       "      <td>0</td>\n",
       "      <td>0</td>\n",
       "      <td>0</td>\n",
       "      <td>0</td>\n",
       "      <td>...</td>\n",
       "      <td>0</td>\n",
       "      <td>1</td>\n",
       "      <td>1</td>\n",
       "      <td>0</td>\n",
       "      <td>0</td>\n",
       "      <td>1</td>\n",
       "      <td>0</td>\n",
       "      <td>0</td>\n",
       "      <td>0</td>\n",
       "      <td>0</td>\n",
       "    </tr>\n",
       "    <tr>\n",
       "      <th>202</th>\n",
       "      <td>-1</td>\n",
       "      <td>114</td>\n",
       "      <td>19</td>\n",
       "      <td>22625.0</td>\n",
       "      <td>1</td>\n",
       "      <td>0</td>\n",
       "      <td>0</td>\n",
       "      <td>0</td>\n",
       "      <td>0</td>\n",
       "      <td>0</td>\n",
       "      <td>...</td>\n",
       "      <td>0</td>\n",
       "      <td>1</td>\n",
       "      <td>0</td>\n",
       "      <td>0</td>\n",
       "      <td>0</td>\n",
       "      <td>0</td>\n",
       "      <td>0</td>\n",
       "      <td>1</td>\n",
       "      <td>0</td>\n",
       "      <td>0</td>\n",
       "    </tr>\n",
       "  </tbody>\n",
       "</table>\n",
       "<p>203 rows × 43 columns</p>\n",
       "</div>"
      ],
      "text/plain": [
       "     symboling  horsepower  citympg    price  fueltypes_gas  \\\n",
       "0            3         111       21  13495.0              1   \n",
       "1            3         111       21  16500.0              1   \n",
       "2            1         154       19  16500.0              1   \n",
       "3            2         102       24  13950.0              1   \n",
       "4            2         115       18  17450.0              1   \n",
       "..         ...         ...      ...      ...            ...   \n",
       "198         -1         114       23  16845.0              1   \n",
       "199         -1         160       19  19045.0              1   \n",
       "200         -1         134       18  21485.0              1   \n",
       "201         -1         106       26  22470.0              0   \n",
       "202         -1         114       19  22625.0              1   \n",
       "\n",
       "     Car_name_alfa-romero  Car_name_audi  Car_name_bmw  Car_name_buick  \\\n",
       "0                       1              0             0               0   \n",
       "1                       1              0             0               0   \n",
       "2                       1              0             0               0   \n",
       "3                       0              1             0               0   \n",
       "4                       0              1             0               0   \n",
       "..                    ...            ...           ...             ...   \n",
       "198                     0              0             0               0   \n",
       "199                     0              0             0               0   \n",
       "200                     0              0             0               0   \n",
       "201                     0              0             0               0   \n",
       "202                     0              0             0               0   \n",
       "\n",
       "     Car_name_chevrolet  ...  enginelocation_enginelocation_rear  \\\n",
       "0                     0  ...                                   0   \n",
       "1                     0  ...                                   0   \n",
       "2                     0  ...                                   0   \n",
       "3                     0  ...                                   0   \n",
       "4                     0  ...                                   0   \n",
       "..                  ...  ...                                 ...   \n",
       "198                   0  ...                                   0   \n",
       "199                   0  ...                                   0   \n",
       "200                   0  ...                                   0   \n",
       "201                   0  ...                                   0   \n",
       "202                   0  ...                                   0   \n",
       "\n",
       "     enginetype_enginetype_ohc  cylindernumber_cylindernumber_not4  \\\n",
       "0                            0                                   0   \n",
       "1                            0                                   0   \n",
       "2                            0                                   1   \n",
       "3                            1                                   0   \n",
       "4                            1                                   1   \n",
       "..                         ...                                 ...   \n",
       "198                          1                                   0   \n",
       "199                          1                                   0   \n",
       "200                          0                                   1   \n",
       "201                          1                                   1   \n",
       "202                          1                                   0   \n",
       "\n",
       "     fuelsystem_2bbl  fuelsystem_4bbl  fuelsystem_idi  fuelsystem_mfi  \\\n",
       "0                  0                0               0               0   \n",
       "1                  0                0               0               0   \n",
       "2                  0                0               0               0   \n",
       "3                  0                0               0               0   \n",
       "4                  0                0               0               0   \n",
       "..               ...              ...             ...             ...   \n",
       "198                0                0               0               0   \n",
       "199                0                0               0               0   \n",
       "200                0                0               0               0   \n",
       "201                0                0               1               0   \n",
       "202                0                0               0               0   \n",
       "\n",
       "     fuelsystem_mpfi  fuelsystem_spdi  fuelsystem_spfi  \n",
       "0                  1                0                0  \n",
       "1                  1                0                0  \n",
       "2                  1                0                0  \n",
       "3                  1                0                0  \n",
       "4                  1                0                0  \n",
       "..               ...              ...              ...  \n",
       "198                1                0                0  \n",
       "199                1                0                0  \n",
       "200                1                0                0  \n",
       "201                0                0                0  \n",
       "202                1                0                0  \n",
       "\n",
       "[203 rows x 43 columns]"
      ]
     },
     "execution_count": 189,
     "metadata": {},
     "output_type": "execute_result"
    }
   ],
   "source": [
    "data_dummies=pd.get_dummies(data_multi, drop_first=True)\n",
    "data_dummies"
   ]
  },
  {
   "cell_type": "code",
   "execution_count": 190,
   "id": "0298b770",
   "metadata": {},
   "outputs": [],
   "source": [
    "X = data_dummies.drop('price',axis=1)\n",
    "y = data_dummies['price']"
   ]
  },
  {
   "cell_type": "code",
   "execution_count": 191,
   "id": "0337e4c6",
   "metadata": {},
   "outputs": [],
   "source": [
    "from sklearn.model_selection import train_test_split"
   ]
  },
  {
   "cell_type": "code",
   "execution_count": 192,
   "id": "0b9a39f6",
   "metadata": {},
   "outputs": [],
   "source": [
    "X_train, X_test, y_train, y_test = train_test_split(X, y, test_size=0.10, random_state=101)"
   ]
  },
  {
   "cell_type": "code",
   "execution_count": 193,
   "id": "ae4d9f10",
   "metadata": {},
   "outputs": [],
   "source": [
    "from sklearn.preprocessing import StandardScaler"
   ]
  },
  {
   "cell_type": "code",
   "execution_count": 194,
   "id": "738f33e0",
   "metadata": {},
   "outputs": [],
   "source": [
    "scaler = StandardScaler()"
   ]
  },
  {
   "cell_type": "code",
   "execution_count": 195,
   "id": "cfb6ca95",
   "metadata": {},
   "outputs": [],
   "source": [
    "scaled_X_train = scaler.fit_transform(X_train)\n",
    "scaled_X_test = scaler.transform(X_test)"
   ]
  },
  {
   "cell_type": "code",
   "execution_count": 196,
   "id": "5daeda06",
   "metadata": {},
   "outputs": [],
   "source": [
    "from sklearn.linear_model import ElasticNet"
   ]
  },
  {
   "cell_type": "code",
   "execution_count": 197,
   "id": "7a435d8c",
   "metadata": {},
   "outputs": [],
   "source": [
    "base_elastic_model = ElasticNet()"
   ]
  },
  {
   "cell_type": "code",
   "execution_count": 198,
   "id": "3248f9cc",
   "metadata": {},
   "outputs": [],
   "source": [
    "param_grid = {'alpha':[0.1,1,2,3,4,5,6,7,8,9,10,50,100],\n",
    "              'l1_ratio':[.1, .5, .7, .9, .95, .99, 1]}"
   ]
  },
  {
   "cell_type": "code",
   "execution_count": 199,
   "id": "8a9c754d",
   "metadata": {},
   "outputs": [],
   "source": [
    "from sklearn.model_selection import GridSearchCV"
   ]
  },
  {
   "cell_type": "code",
   "execution_count": 200,
   "id": "2038c300",
   "metadata": {},
   "outputs": [],
   "source": [
    "grid_model = GridSearchCV(estimator=base_elastic_model,\n",
    "                          param_grid=param_grid,\n",
    "                          scoring='neg_mean_squared_error',\n",
    "                          cv=5,\n",
    "                          verbose=1)"
   ]
  },
  {
   "cell_type": "code",
   "execution_count": 218,
   "id": "2b07da97",
   "metadata": {},
   "outputs": [
    {
     "name": "stdout",
     "output_type": "stream",
     "text": [
      "Fitting 5 folds for each of 91 candidates, totalling 455 fits\n"
     ]
    },
    {
     "name": "stderr",
     "output_type": "stream",
     "text": [
      "C:\\Users\\Madhuri\\anaconda3\\lib\\site-packages\\sklearn\\linear_model\\_coordinate_descent.py:647: ConvergenceWarning: Objective did not converge. You might want to increase the number of iterations, check the scale of the features or consider increasing regularisation. Duality gap: 1.046e+07, tolerance: 6.524e+05\n",
      "  model = cd_fast.enet_coordinate_descent(\n",
      "C:\\Users\\Madhuri\\anaconda3\\lib\\site-packages\\sklearn\\linear_model\\_coordinate_descent.py:647: ConvergenceWarning: Objective did not converge. You might want to increase the number of iterations, check the scale of the features or consider increasing regularisation. Duality gap: 1.291e+07, tolerance: 7.674e+05\n",
      "  model = cd_fast.enet_coordinate_descent(\n",
      "C:\\Users\\Madhuri\\anaconda3\\lib\\site-packages\\sklearn\\linear_model\\_coordinate_descent.py:647: ConvergenceWarning: Objective did not converge. You might want to increase the number of iterations, check the scale of the features or consider increasing regularisation. Duality gap: 3.328e+06, tolerance: 7.045e+05\n",
      "  model = cd_fast.enet_coordinate_descent(\n",
      "C:\\Users\\Madhuri\\anaconda3\\lib\\site-packages\\sklearn\\linear_model\\_coordinate_descent.py:647: ConvergenceWarning: Objective did not converge. You might want to increase the number of iterations, check the scale of the features or consider increasing regularisation. Duality gap: 3.504e+07, tolerance: 7.081e+05\n",
      "  model = cd_fast.enet_coordinate_descent(\n",
      "C:\\Users\\Madhuri\\anaconda3\\lib\\site-packages\\sklearn\\linear_model\\_coordinate_descent.py:647: ConvergenceWarning: Objective did not converge. You might want to increase the number of iterations, check the scale of the features or consider increasing regularisation. Duality gap: 1.750e+07, tolerance: 6.967e+05\n",
      "  model = cd_fast.enet_coordinate_descent(\n",
      "C:\\Users\\Madhuri\\anaconda3\\lib\\site-packages\\sklearn\\linear_model\\_coordinate_descent.py:647: ConvergenceWarning: Objective did not converge. You might want to increase the number of iterations, check the scale of the features or consider increasing regularisation. Duality gap: 1.118e+07, tolerance: 6.524e+05\n",
      "  model = cd_fast.enet_coordinate_descent(\n",
      "C:\\Users\\Madhuri\\anaconda3\\lib\\site-packages\\sklearn\\linear_model\\_coordinate_descent.py:647: ConvergenceWarning: Objective did not converge. You might want to increase the number of iterations, check the scale of the features or consider increasing regularisation. Duality gap: 1.143e+07, tolerance: 7.674e+05\n",
      "  model = cd_fast.enet_coordinate_descent(\n",
      "C:\\Users\\Madhuri\\anaconda3\\lib\\site-packages\\sklearn\\linear_model\\_coordinate_descent.py:647: ConvergenceWarning: Objective did not converge. You might want to increase the number of iterations, check the scale of the features or consider increasing regularisation. Duality gap: 1.055e+07, tolerance: 7.045e+05\n",
      "  model = cd_fast.enet_coordinate_descent(\n",
      "C:\\Users\\Madhuri\\anaconda3\\lib\\site-packages\\sklearn\\linear_model\\_coordinate_descent.py:647: ConvergenceWarning: Objective did not converge. You might want to increase the number of iterations, check the scale of the features or consider increasing regularisation. Duality gap: 1.635e+07, tolerance: 7.081e+05\n",
      "  model = cd_fast.enet_coordinate_descent(\n",
      "C:\\Users\\Madhuri\\anaconda3\\lib\\site-packages\\sklearn\\linear_model\\_coordinate_descent.py:647: ConvergenceWarning: Objective did not converge. You might want to increase the number of iterations, check the scale of the features or consider increasing regularisation. Duality gap: 1.411e+07, tolerance: 6.967e+05\n",
      "  model = cd_fast.enet_coordinate_descent(\n"
     ]
    },
    {
     "data": {
      "text/plain": [
       "GridSearchCV(cv=5, estimator=ElasticNet(),\n",
       "             param_grid={'alpha': [0.1, 1, 2, 3, 4, 5, 6, 7, 8, 9, 10, 50, 100],\n",
       "                         'l1_ratio': [0.1, 0.5, 0.7, 0.9, 0.95, 0.99, 1]},\n",
       "             scoring='neg_mean_squared_error', verbose=1)"
      ]
     },
     "execution_count": 218,
     "metadata": {},
     "output_type": "execute_result"
    }
   ],
   "source": [
    "grid_model.fit(scaled_X_train,y_train)"
   ]
  },
  {
   "cell_type": "code",
   "execution_count": 202,
   "id": "0b1515a0",
   "metadata": {},
   "outputs": [
    {
     "data": {
      "text/plain": [
       "{'alpha': 5, 'l1_ratio': 0.99}"
      ]
     },
     "execution_count": 202,
     "metadata": {},
     "output_type": "execute_result"
    }
   ],
   "source": [
    "grid_model.best_params_"
   ]
  },
  {
   "cell_type": "code",
   "execution_count": 203,
   "id": "92eebe47",
   "metadata": {},
   "outputs": [],
   "source": [
    "y_pred = grid_model.predict(scaled_X_test)"
   ]
  },
  {
   "cell_type": "code",
   "execution_count": 204,
   "id": "7f81da9a",
   "metadata": {},
   "outputs": [],
   "source": [
    "from sklearn.metrics import mean_absolute_error,mean_squared_error"
   ]
  },
  {
   "cell_type": "code",
   "execution_count": 205,
   "id": "98a820ca",
   "metadata": {},
   "outputs": [
    {
     "data": {
      "text/plain": [
       "1316.8267238356964"
      ]
     },
     "execution_count": 205,
     "metadata": {},
     "output_type": "execute_result"
    }
   ],
   "source": [
    "mean_absolute_error(y_test,y_pred)"
   ]
  },
  {
   "cell_type": "code",
   "execution_count": 206,
   "id": "6ddbd6f9",
   "metadata": {},
   "outputs": [
    {
     "data": {
      "text/plain": [
       "1620.6681682664814"
      ]
     },
     "execution_count": 206,
     "metadata": {},
     "output_type": "execute_result"
    }
   ],
   "source": [
    "np.sqrt(mean_squared_error(y_test,y_pred))"
   ]
  },
  {
   "cell_type": "code",
   "execution_count": 207,
   "id": "89798cba",
   "metadata": {},
   "outputs": [
    {
     "data": {
      "text/plain": [
       "13227.101807881772"
      ]
     },
     "execution_count": 207,
     "metadata": {},
     "output_type": "execute_result"
    }
   ],
   "source": [
    "np.mean(df['price'])"
   ]
  },
  {
   "cell_type": "code",
   "execution_count": 208,
   "id": "fa6fcedf",
   "metadata": {},
   "outputs": [
    {
     "data": {
      "text/plain": [
       "12808.680625615763"
      ]
     },
     "execution_count": 208,
     "metadata": {},
     "output_type": "execute_result"
    }
   ],
   "source": [
    "np.mean(data_dummies['price'])"
   ]
  },
  {
   "cell_type": "code",
   "execution_count": 209,
   "id": "ef9b7396",
   "metadata": {},
   "outputs": [],
   "source": [
    "test_residuals = y_test-y_pred"
   ]
  },
  {
   "cell_type": "code",
   "execution_count": 215,
   "id": "0b04296e",
   "metadata": {},
   "outputs": [
    {
     "data": {
      "text/plain": [
       "<matplotlib.lines.Line2D at 0x1e61405f160>"
      ]
     },
     "execution_count": 215,
     "metadata": {},
     "output_type": "execute_result"
    },
    {
     "data": {
      "image/png": "[encoded data removed]",
      "text/plain": [
       "<Figure size 432x288 with 1 Axes>"
      ]
     },
     "metadata": {},
     "output_type": "display_data"
    }
   ],
   "source": [
    "sns.scatterplot(x=y_test,y=test_residuals)\n",
    "plt.axhline(y=0,color='r',ls='-')"
   ]
  },
  {
   "cell_type": "code",
   "execution_count": 214,
   "id": "5c921f01",
   "metadata": {},
   "outputs": [
    {
     "name": "stderr",
     "output_type": "stream",
     "text": [
      "C:\\Users\\Madhuri\\anaconda3\\lib\\site-packages\\seaborn\\distributions.py:2619: FutureWarning: `distplot` is a deprecated function and will be removed in a future version. Please adapt your code to use either `displot` (a figure-level function with similar flexibility) or `histplot` (an axes-level function for histograms).\n",
      "  warnings.warn(msg, FutureWarning)\n"
     ]
    },
    {
     "data": {
      "text/plain": [
       "<AxesSubplot:xlabel='price', ylabel='Density'>"
      ]
     },
     "execution_count": 214,
     "metadata": {},
     "output_type": "execute_result"
    },
    {
     "data": {
      "image/png": "[encoded data removed]",
      "text/plain": [
       "<Figure size 432x288 with 1 Axes>"
      ]
     },
     "metadata": {},
     "output_type": "display_data"
    }
   ],
   "source": [
    "sns.distplot(test_residuals, bins=20, color='orange')"
   ]
  },
  {
   "cell_type": "code",
   "execution_count": 216,
   "id": "165631e9",
   "metadata": {},
   "outputs": [],
   "source": [
    "import scipy as sp"
   ]
  },
  {
   "cell_type": "code",
   "execution_count": 217,
   "id": "f1bc5a60",
   "metadata": {},
   "outputs": [
    {
     "data": {
      "image/png": "[encoded data removed]",
      "text/plain": [
       "<Figure size 600x800 with 1 Axes>"
      ]
     },
     "metadata": {},
     "output_type": "display_data"
    }
   ],
   "source": [
    "fig, ax = plt.subplots(figsize=(6,8),dpi=100)\n",
    "_ = sp.stats.probplot(test_residuals,plot=ax)"
   ]
  },
  {
   "cell_type": "code",
   "execution_count": 219,
   "id": "d302e454",
   "metadata": {},
   "outputs": [
    {
     "name": "stderr",
     "output_type": "stream",
     "text": [
      "C:\\Users\\Madhuri\\anaconda3\\lib\\site-packages\\seaborn\\_decorators.py:36: FutureWarning: Pass the following variables as keyword args: x, y. From version 0.12, the only valid positional argument will be `data`, and passing other arguments without an explicit keyword will result in an error or misinterpretation.\n",
      "  warnings.warn(\n"
     ]
    },
    {
     "data": {
      "text/plain": [
       "Text(0, 0.5, 'Y Test Predicted Values')"
      ]
     },
     "execution_count": 219,
     "metadata": {},
     "output_type": "execute_result"
    },
    {
     "data": {
      "image/png": "[encoded data removed]",
      "text/plain": [
       "<Figure size 1152x288 with 1 Axes>"
      ]
     },
     "metadata": {},
     "output_type": "display_data"
    }
   ],
   "source": [
    "plt.figure(figsize=(16,4))\n",
    "sns.regplot(y_test, y_pred, color=\"green\")\n",
    "plt.title(\"Test vs Predicted Values\")\n",
    "plt.xlabel(\"Y Test Values\")\n",
    "plt.ylabel(\"Y Test Predicted Values\")"
   ]
  },
  {
   "cell_type": "code",
   "execution_count": null,
   "id": "f7a1dd28",
   "metadata": {},
   "outputs": [],
   "source": [
    "from joblib import dump, load"
   ]
  },
  {
   "cell_type": "code",
   "execution_count": null,
   "id": "3ab88e4b",
   "metadata": {},
   "outputs": [],
   "source": [
    "dump(grid_model, 'car_price_prediction_model.joblib') "
   ]
  },
  {
   "cell_type": "code",
   "execution_count": null,
   "id": "511d0b24",
   "metadata": {},
   "outputs": [],
   "source": []
  }
 ],
 "metadata": {
  "kernelspec": {
   "display_name": "Python 3 (ipykernel)",
   "language": "python",
   "name": "python3"
  },
  "language_info": {
   "codemirror_mode": {
    "name": "ipython",
    "version": 3
   },
   "file_extension": ".py",
   "mimetype": "text/x-python",
   "name": "python",
   "nbconvert_exporter": "python",
   "pygments_lexer": "ipython3",
   "version": "3.9.12"
  }
 },
 "nbformat": 4,
 "nbformat_minor": 5
}
